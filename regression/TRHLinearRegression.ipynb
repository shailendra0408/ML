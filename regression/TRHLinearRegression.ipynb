{
 "cells": [
  {
   "attachments": {},
   "cell_type": "markdown",
   "metadata": {},
   "source": [
    "Code to try out forecasting of T as Output and Humidity as Regressor - Using Linear Regression "
   ]
  },
  {
   "cell_type": "code",
   "execution_count": 16,
   "metadata": {},
   "outputs": [],
   "source": [
    "import numpy as np\n",
    "import pandas as pd\n",
    "from sklearn.linear_model import LinearRegression\n",
    "from matplotlib import pyplot as plt \n",
    "from sklearn.model_selection import train_test_split\n",
    "\n"
   ]
  },
  {
   "cell_type": "code",
   "execution_count": 22,
   "metadata": {},
   "outputs": [
    {
     "name": "stdout",
     "output_type": "stream",
     "text": [
      "[[12.7 92. ]\n",
      " [12.7 92. ]\n",
      " [12.7 91. ]\n",
      " ...\n",
      " [21.8 69. ]\n",
      " [21.1 73. ]\n",
      " [20.4 75. ]]\n",
      "   Temperature  Relative Humidity\n",
      "0         12.7                 92\n",
      "1         12.7                 92\n",
      "2         12.7                 91\n",
      "3         13.0                 91\n",
      "4         13.2                 89\n"
     ]
    }
   ],
   "source": [
    "df = pd.read_excel(r'/Users/shailendra0408/Desktop/CSA_Temp.xlsx')\n",
    "data_array = np.array(df)\n",
    "print(data_array)\n",
    "print(df.head())"
   ]
  },
  {
   "cell_type": "code",
   "execution_count": 44,
   "metadata": {},
   "outputs": [
    {
     "name": "stdout",
     "output_type": "stream",
     "text": [
      "[56. 90. 42. ... 79. 51. 94.] [[ 63.]\n",
      " [ 43.]\n",
      " [ 77.]\n",
      " ...\n",
      " [101.]\n",
      " [ 85.]\n",
      " [ 87.]] [20.1 18.3 27.5 ... 16.6 25.4 17.4] [[19.1]\n",
      " [25.9]\n",
      " [13.8]\n",
      " ...\n",
      " [10.3]\n",
      " [17.4]\n",
      " [15.5]]\n"
     ]
    }
   ],
   "source": [
    "T_data, RH_data = data_array[:,0], data_array[:,1]\n",
    "\n",
    "T_data_train, T_data_test, RH_data_train, RH_data_test = train_test_split(T_data, RH_data, random_state=104, \n",
    "                                   test_size=0.75, \n",
    "                                   shuffle=True)\n",
    "\n",
    "T_data_train = T_data_train.reshape(-1,1)\n",
    "RH_data_train = RH_data_train.reshape(-1,1)\n",
    "RH_data_test = RH_data_test.reshape(-1,1)\n",
    "RH_data_train = RH_data_train.reshape(-1,1)\n",
    "\n",
    "print (RH_data_test, RH_data_train, T_data_test, T_data_train)\n"
   ]
  },
  {
   "cell_type": "code",
   "execution_count": 47,
   "metadata": {},
   "outputs": [],
   "source": [
    "model = LinearRegression()\n",
    "model = LinearRegression().fit(T_data_train, RH_data_train)"
   ]
  },
  {
   "cell_type": "code",
   "execution_count": 50,
   "metadata": {},
   "outputs": [
    {
     "name": "stdout",
     "output_type": "stream",
     "text": [
      "coefficient of determination: 0.6827001270410993\n",
      "intercept: [131.50246418]\n",
      "slope: [[-3.11154442]]\n"
     ]
    }
   ],
   "source": [
    "r_sq = model.score(T_data_train, RH_data_train)\n",
    "print(f\"coefficient of determination: {r_sq}\")\n",
    "print(f\"intercept: {model.intercept_}\")\n",
    "print(f\"slope: {model.coef_}\")"
   ]
  },
  {
   "cell_type": "code",
   "execution_count": 54,
   "metadata": {},
   "outputs": [
    {
     "data": {
      "text/plain": [
       "array([[ -42.74402335],\n",
       "       [-148.53653363],\n",
       "       [   0.81759853],\n",
       "       ...,\n",
       "       [-114.30954501],\n",
       "       [ -27.18630125],\n",
       "       [-160.98271131]])"
      ]
     },
     "execution_count": 54,
     "metadata": {},
     "output_type": "execute_result"
    }
   ],
   "source": [
    "RH_data_test = RH_data_test.reshape(-1,1)\n",
    "Temp_new_data = model.predict(RH_data_test)\n",
    "Temp_new_data"
   ]
  },
  {
   "cell_type": "code",
   "execution_count": 56,
   "metadata": {},
   "outputs": [
    {
     "data": {
      "image/png": "[encoded data removed]",
      "text/plain": [
       "<Figure size 432x288 with 1 Axes>"
      ]
     },
     "metadata": {
      "needs_background": "light"
     },
     "output_type": "display_data"
    }
   ],
   "source": [
    "plt.plot(T_data_train,RH_data_train,color='g') \n",
    "plt.scatter(Temp_new_data, RH_data_test,color='k') \n",
    "plt.show()"
   ]
  }
 ],
 "metadata": {
  "kernelspec": {
   "display_name": "Python 3",
   "language": "python",
   "name": "python3"
  },
  "language_info": {
   "codemirror_mode": {
    "name": "ipython",
    "version": 3
   },
   "file_extension": ".py",
   "mimetype": "text/x-python",
   "name": "python",
   "nbconvert_exporter": "python",
   "pygments_lexer": "ipython3",
   "version": "3.9.13"
  },
  "orig_nbformat": 4,
  "vscode": {
   "interpreter": {
    "hash": "397704579725e15f5c7cb49fe5f0341eb7531c82d19f2c29d197e8b64ab5776b"
   }
  }
 },
 "nbformat": 4,
 "nbformat_minor": 2
}
